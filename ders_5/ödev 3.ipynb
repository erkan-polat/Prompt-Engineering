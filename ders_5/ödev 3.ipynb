{
 "cells": [
  {
   "cell_type": "code",
   "execution_count": 3,
   "metadata": {},
   "outputs": [
    {
     "name": "stderr",
     "output_type": "stream",
     "text": [
      "C:\\Users\\er_po\\Anaconda3\\lib\\site-packages\\pandas\\compat\\_optional.py:138: UserWarning: Pandas requires version '2.7.0' or newer of 'numexpr' (version '2.6.9' currently installed).\n",
      "  warnings.warn(msg, UserWarning)\n",
      "[*********************100%***********************]  1 of 1 completed\n"
     ]
    },
    {
     "data": {
      "text/plain": [
       "<Figure size 1400x700 with 1 Axes>"
      ]
     },
     "metadata": {},
     "output_type": "display_data"
    }
   ],
   "source": [
    "import yfinance as yf\n",
    "import pandas as pd\n",
    "import matplotlib.pyplot as plt\n",
    "\n",
    "ticker = 'AAPL'\n",
    "\n",
    "data = yf.download(ticker, period='1y', interval='1d')\n",
    "\n",
    "data['Close'] = data['Adj Close']\n",
    "\n",
    "data['SMA_20'] = data['Close'].rolling(window=20).mean()\n",
    "\n",
    "data['EMA_50'] = data['Close'].ewm(span=50, adjust=False).mean()\n",
    "\n",
    "plt.figure(figsize=(14, 7))\n",
    "plt.plot(data['Close'], label='Close Price', color='blue', alpha=0.5)\n",
    "plt.plot(data['SMA_20'], label='20-Day SMA', color='green', alpha=0.75)\n",
    "plt.plot(data['EMA_50'], label='50-Day EMA', color='red', alpha=0.75)\n",
    "\n",
    "plt.title(f'{ticker} Stock Price with 20-Day SMA and 50-Day EMA')\n",
    "plt.xlabel('Date')\n",
    "plt.ylabel('Price (USD)')\n",
    "plt.legend(loc='best')\n",
    "plt.grid(True)\n",
    "plt.show()\n"
   ]
  },
  {
   "cell_type": "code",
   "execution_count": 4,
   "metadata": {},
   "outputs": [
    {
     "name": "stdout",
     "output_type": "stream",
     "text": [
      "Requirement already satisfied: numexpr in c:\\users\\er_po\\anaconda3\\lib\\site-packages (2.6.9)\n",
      "Collecting numexpr\n",
      "  Downloading numexpr-2.8.6-cp37-cp37m-win_amd64.whl.metadata (8.2 kB)\n",
      "Requirement already satisfied: numpy>=1.13.3 in c:\\users\\er_po\\anaconda3\\lib\\site-packages (from numexpr) (1.21.0)\n",
      "Downloading numexpr-2.8.6-cp37-cp37m-win_amd64.whl (94 kB)\n",
      "   ---------------------------------------- 95.0/95.0 kB 1.1 MB/s eta 0:00:00\n",
      "Installing collected packages: numexpr\n",
      "  Attempting uninstall: numexpr\n",
      "    Found existing installation: numexpr 2.6.9\n",
      "    Uninstalling numexpr-2.6.9:\n",
      "      Successfully uninstalled numexpr-2.6.9\n",
      "Successfully installed numexpr-2.8.6\n",
      "Note: you may need to restart the kernel to use updated packages.\n"
     ]
    },
    {
     "name": "stderr",
     "output_type": "stream",
     "text": [
      "ERROR: pip's dependency resolver does not currently take into account all the packages that are installed. This behaviour is the source of the following dependency conflicts.\n",
      "tables 3.5.1 requires mock>=2.0, which is not installed.\n"
     ]
    }
   ],
   "source": [
    "pip install --upgrade numexpr\n"
   ]
  },
  {
   "cell_type": "code",
   "execution_count": null,
   "metadata": {},
   "outputs": [],
   "source": []
  }
 ],
 "metadata": {
  "kernelspec": {
   "display_name": "Python 3",
   "language": "python",
   "name": "python3"
  },
  "language_info": {
   "codemirror_mode": {
    "name": "ipython",
    "version": 3
   },
   "file_extension": ".py",
   "mimetype": "text/x-python",
   "name": "python",
   "nbconvert_exporter": "python",
   "pygments_lexer": "ipython3",
   "version": "3.7.3"
  }
 },
 "nbformat": 4,
 "nbformat_minor": 2
}
